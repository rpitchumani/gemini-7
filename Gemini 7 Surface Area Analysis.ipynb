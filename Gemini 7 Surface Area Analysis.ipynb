{
 "cells": [
  {
   "cell_type": "markdown",
   "id": "e8f4f49f-38d9-4122-9d1d-27947bf97afe",
   "metadata": {},
   "source": [
    "# Micromeritics Gemini 7 Surface Area Analyzer\n",
    "This notebook shows how to read all the information from the data file exported by the Gemini 7 Surface Area Analyzer software using the class ``Gemini7``"
   ]
  },
  {
   "cell_type": "code",
   "execution_count": 1,
   "id": "481a3005-1915-4b48-abec-a07b70124f25",
   "metadata": {},
   "outputs": [],
   "source": [
    "# Import Libraries\n",
    "import os\n",
    "import matplotlib.pyplot as plt\n",
    "from gemini_7 import Gemini7"
   ]
  },
  {
   "cell_type": "code",
   "execution_count": 2,
   "id": "6b484d44-d839-40de-afe9-122fddab4884",
   "metadata": {},
   "outputs": [],
   "source": [
    "data_path = \"data\"\n",
    "gemini7_data_filename = \"R20210517-800 150C SA.XLS\"\n",
    "gemini7_path = os.path.join(data_path, gemini7_data_filename)"
   ]
  },
  {
   "cell_type": "code",
   "execution_count": 3,
   "id": "9439e7b4-7dba-40f0-91e2-ad6fff1ac71d",
   "metadata": {},
   "outputs": [],
   "source": [
    "gem = Gemini7(gemini7_path)"
   ]
  },
  {
   "cell_type": "code",
   "execution_count": 5,
   "id": "9acf1a8a-26a6-48e2-a8d2-7ad98d813735",
   "metadata": {},
   "outputs": [
    {
     "name": "stdout",
     "output_type": "stream",
     "text": [
      "General Surface Area\n",
      "AJG\n",
      "R20210517-800 150C\n",
      "R20210517-800\n",
      "33.1175\n",
      "32.5763\n"
     ]
    }
   ],
   "source": [
    "sample = gem.sample\n",
    "operator = gem.operator\n",
    "grade = gem.grade\n",
    "lot = gem.lot\n",
    "bet = gem.bet\n",
    "sp = gem.single_point\n",
    "\n",
    "print(sample)\n",
    "print(operator)\n",
    "print(grade)\n",
    "print(lot)\n",
    "print(bet)\n",
    "print(sp)"
   ]
  },
  {
   "cell_type": "code",
   "execution_count": null,
   "id": "d2d9971a-4b06-4ec4-afc1-c6df2d0a395a",
   "metadata": {},
   "outputs": [],
   "source": []
  }
 ],
 "metadata": {
  "kernelspec": {
   "display_name": "Python 3 (ipykernel)",
   "language": "python",
   "name": "python3"
  },
  "language_info": {
   "codemirror_mode": {
    "name": "ipython",
    "version": 3
   },
   "file_extension": ".py",
   "mimetype": "text/x-python",
   "name": "python",
   "nbconvert_exporter": "python",
   "pygments_lexer": "ipython3",
   "version": "3.8.13"
  }
 },
 "nbformat": 4,
 "nbformat_minor": 5
}
